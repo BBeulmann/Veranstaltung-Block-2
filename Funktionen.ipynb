{
 "cells": [
  {
   "cell_type": "code",
   "execution_count": 17,
   "metadata": {},
   "outputs": [],
   "source": [
    "potential_isbns = [\"978-3-86226-468-5\",\n",
    "                    \"AB-423-2343\",\n",
    "                    \"978-3-XXXXX-468-5\"]"
   ]
  },
  {
   "cell_type": "code",
   "execution_count": 18,
   "metadata": {},
   "outputs": [],
   "source": [
    "pot_isbn_1 = \"978-3-86226-468-5\""
   ]
  },
  {
   "cell_type": "code",
   "execution_count": 19,
   "metadata": {},
   "outputs": [
    {
     "name": "stdout",
     "output_type": "stream",
     "text": [
      "Could be an ISBN.\n"
     ]
    }
   ],
   "source": [
    "if len(pot_isbn_1)== 17:\n",
    "    print(\"Could be an ISBN.\")"
   ]
  },
  {
   "cell_type": "code",
   "execution_count": 20,
   "metadata": {},
   "outputs": [
    {
     "data": {
      "text/plain": [
       "4"
      ]
     },
     "execution_count": 20,
     "metadata": {},
     "output_type": "execute_result"
    }
   ],
   "source": [
    "pot_isbn_1.count(\"-\")"
   ]
  },
  {
   "cell_type": "code",
   "execution_count": 34,
   "metadata": {},
   "outputs": [
    {
     "data": {
      "text/plain": [
       "0"
      ]
     },
     "execution_count": 34,
     "metadata": {},
     "output_type": "execute_result"
    }
   ],
   "source": [
    "pot_isbn_1.count(\"8\")"
   ]
  },
  {
   "cell_type": "code",
   "execution_count": 35,
   "metadata": {},
   "outputs": [],
   "source": [
    "if pot_isbn_1.count(\"-\") == 4:\n",
    "    print(\"Could be an ISBN.\")"
   ]
  },
  {
   "cell_type": "code",
   "execution_count": 36,
   "metadata": {},
   "outputs": [
    {
     "name": "stdout",
     "output_type": "stream",
     "text": [
      "Is NOT an ISBN.\n"
     ]
    }
   ],
   "source": [
    "if len(pot_isbn_1)!= 17:\n",
    "    print(\"Is NOT an ISBN.\")\n",
    "elif pot_isbn_1.count(\"-\") != 4:\n",
    "    print(\"Is NOT an ISBN.\")\n",
    "else:\n",
    "    print(\"Could be an ISBN.\")"
   ]
  },
  {
   "cell_type": "code",
   "execution_count": 37,
   "metadata": {},
   "outputs": [
    {
     "name": "stdout",
     "output_type": "stream",
     "text": [
      "AB-423-2343\n",
      "Is NOT an ISBN.\n"
     ]
    }
   ],
   "source": [
    "pot_isbn_1 = potential_isbns[1]\n",
    "print(pot_isbn_1)\n",
    "if len(pot_isbn_1)!= 17:\n",
    "    print(\"Is NOT an ISBN.\")\n",
    "elif pot_isbn_1.count(\"-\") != 4:\n",
    "    print(\"Is NOT an ISBN.\")\n",
    "else:\n",
    "    print(\"Could be an ISBN.\")"
   ]
  },
  {
   "cell_type": "code",
   "execution_count": 38,
   "metadata": {},
   "outputs": [
    {
     "name": "stdout",
     "output_type": "stream",
     "text": [
      "ISBN\n"
     ]
    }
   ],
   "source": [
    "def is_isbn():\n",
    "    print(\"ISBN\")\n",
    "    \n",
    "is_isbn()"
   ]
  },
  {
   "cell_type": "code",
   "execution_count": 42,
   "metadata": {},
   "outputs": [
    {
     "name": "stdout",
     "output_type": "stream",
     "text": [
      "ISBN 978-3-86226-468-5\n",
      "Could be an ISBN.\n"
     ]
    }
   ],
   "source": [
    "def is_isbn():\n",
    "    pot_isbn_1 = potential_isbns[0]\n",
    "    print(\"ISBN \" + pot_isbn_1)\n",
    "    if len(pot_isbn_1)!= 17:\n",
    "        print(\"Is NOT an ISBN.\")\n",
    "    elif pot_isbn_1.count(\"-\") != 4:\n",
    "        print(\"Is NOT an ISBN.\")\n",
    "    else:\n",
    "        print(\"Could be an ISBN.\")\n",
    "    \n",
    "is_isbn()"
   ]
  },
  {
   "cell_type": "code",
   "execution_count": 49,
   "metadata": {},
   "outputs": [
    {
     "name": "stdout",
     "output_type": "stream",
     "text": [
      "Potential ISBN XXX\n",
      "Is NOT an ISBN.\n"
     ]
    }
   ],
   "source": [
    "def is_isbn(pot_isbn):\n",
    "    print(\"Potential ISBN \" + pot_isbn)\n",
    "    if len(pot_isbn) != 17:\n",
    "        print(\"Is NOT an ISBN.\")\n",
    "    elif pot_isbn.count(\"-\") != 4:\n",
    "        print(\"Is NOT an ISBN.\")\n",
    "    else:\n",
    "        print(\"Could be an ISBN.\")\n",
    "    \n",
    "is_isbn(\"XXX\")"
   ]
  },
  {
   "cell_type": "code",
   "execution_count": 54,
   "metadata": {},
   "outputs": [
    {
     "data": {
      "text/plain": [
       "False"
      ]
     },
     "execution_count": 54,
     "metadata": {},
     "output_type": "execute_result"
    }
   ],
   "source": [
    "def is_isbn(pot_isbn):\n",
    "    if len(pot_isbn) != 17:\n",
    "        return False\n",
    "    elif pot_isbn.count(\"-\") != 4:\n",
    "        return False\n",
    "    else:\n",
    "        return True\n",
    "    \n",
    "is_isbn(\"XXX\")"
   ]
  },
  {
   "cell_type": "code",
   "execution_count": 56,
   "metadata": {},
   "outputs": [
    {
     "name": "stdout",
     "output_type": "stream",
     "text": [
      "False\n",
      "True\n",
      "False\n"
     ]
    }
   ],
   "source": [
    "def is_isbn(pot_isbn):\n",
    "    if len(pot_isbn) != 17:\n",
    "        return False\n",
    "    elif pot_isbn.count(\"-\") != 4:\n",
    "        return False\n",
    "    else:\n",
    "        return True\n",
    "    \n",
    "print(is_isbn(\"XXX\"))\n",
    "print(is_isbn(\"978-3-86226-468-5\"))\n",
    "print(is_isbn(potential_isbns[1]))"
   ]
  },
  {
   "cell_type": "code",
   "execution_count": null,
   "metadata": {},
   "outputs": [],
   "source": []
  }
 ],
 "metadata": {
  "kernelspec": {
   "display_name": "Python 3",
   "language": "python",
   "name": "python3"
  },
  "language_info": {
   "codemirror_mode": {
    "name": "ipython",
    "version": 3
   },
   "file_extension": ".py",
   "mimetype": "text/x-python",
   "name": "python",
   "nbconvert_exporter": "python",
   "pygments_lexer": "ipython3",
   "version": "3.7.3"
  }
 },
 "nbformat": 4,
 "nbformat_minor": 2
}
