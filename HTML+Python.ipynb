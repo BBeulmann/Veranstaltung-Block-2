{
 "cells": [
  {
   "cell_type": "code",
   "execution_count": 18,
   "metadata": {},
   "outputs": [],
   "source": [
    "names = [\"Hawking\",\n",
    "         \"Noeter\",\n",
    "         \"Curie\"]"
   ]
  },
  {
   "cell_type": "code",
   "execution_count": 19,
   "metadata": {},
   "outputs": [
    {
     "name": "stdout",
     "output_type": "stream",
     "text": [
      "Hawking\n",
      "Noeter\n",
      "Curie\n"
     ]
    }
   ],
   "source": [
    "for name in names:\n",
    "    print(name)"
   ]
  },
  {
   "cell_type": "code",
   "execution_count": 20,
   "metadata": {},
   "outputs": [
    {
     "name": "stdout",
     "output_type": "stream",
     "text": [
      "Hawking was a great scientist.\n",
      "\n",
      "Noeter was a great scientist.\n",
      "\n",
      "Curie was a great scientist.\n",
      "\n"
     ]
    }
   ],
   "source": [
    "for name in names:\n",
    "    print(f\"{name} was a great scientist.\\n\")"
   ]
  },
  {
   "cell_type": "code",
   "execution_count": 33,
   "metadata": {},
   "outputs": [],
   "source": [
    "authors_and_birth_years = {\"Lovelace\": 1882, \n",
    "                           \"Darwin\": 1809 ,\n",
    "                           \"Noether\": 1882 ,\n",
    "                           \"Hawking\": 1942}"
   ]
  },
  {
   "cell_type": "code",
   "execution_count": 34,
   "metadata": {},
   "outputs": [
    {
     "data": {
      "text/plain": [
       "dict_keys(['Lovelace', 'Darwin', 'Noether', 'Hawking'])"
      ]
     },
     "execution_count": 34,
     "metadata": {},
     "output_type": "execute_result"
    }
   ],
   "source": [
    "authors_and_birth_years.keys()"
   ]
  },
  {
   "cell_type": "code",
   "execution_count": 35,
   "metadata": {},
   "outputs": [
    {
     "data": {
      "text/plain": [
       "dict_items([('Lovelace', 1882), ('Darwin', 1809), ('Noether', 1882), ('Hawking', 1942)])"
      ]
     },
     "execution_count": 35,
     "metadata": {},
     "output_type": "execute_result"
    }
   ],
   "source": [
    "authors_and_birth_years.items()"
   ]
  },
  {
   "cell_type": "code",
   "execution_count": 42,
   "metadata": {},
   "outputs": [
    {
     "name": "stdout",
     "output_type": "stream",
     "text": [
      "Hawking was born in 1942\n",
      "Hawking was born in 1942\n",
      "Hawking was born in 1942\n",
      "Hawking was born in 1942\n"
     ]
    }
   ],
   "source": [
    "for author, birthdate in authors_and_birth_years.items():\n",
    "    print(f\"{name} was born in {year}\")"
   ]
  },
  {
   "cell_type": "code",
   "execution_count": 40,
   "metadata": {},
   "outputs": [],
   "source": [
    "title = \"My awsome page\"\n",
    "text = \"The best website erver\"\n",
    "\n",
    "fh = open(\"authors.html\", \"w\")\n",
    "\n",
    "fh.write(\"Was Nettes.\")\n",
    "\n",
    "fh.close()"
   ]
  },
  {
   "cell_type": "code",
   "execution_count": 43,
   "metadata": {},
   "outputs": [
    {
     "name": "stdout",
     "output_type": "stream",
     "text": [
      "blub\n"
     ]
    }
   ],
   "source": [
    "x = \"blub\"\n",
    "print(x)"
   ]
  },
  {
   "cell_type": "code",
   "execution_count": 45,
   "metadata": {},
   "outputs": [
    {
     "name": "stdout",
     "output_type": "stream",
     "text": [
      "blub\n",
      "bla\n",
      "blub\n",
      "    \n"
     ]
    }
   ],
   "source": [
    "x = \"\"\"blub\n",
    "bla\n",
    "blub\n",
    "    \"\"\"\n",
    "print(x)"
   ]
  },
  {
   "cell_type": "code",
   "execution_count": 54,
   "metadata": {},
   "outputs": [],
   "source": [
    "title = \"My awesome page\"\n",
    "text = \"The best website ever\"\n",
    "\n",
    "fh = open(\"authors.html\", \"w\")\n",
    "\n",
    "fh.write(f\"\"\"\n",
    "<!doctype html>\n",
    "<html>\n",
    "<head>    \n",
    "    <title>{title}</title>\n",
    "</head>\n",
    "<body>\n",
    "    <h1>{title}</h1>    \n",
    "<p>{text}</p>    \n",
    "</body>    \n",
    "</html>\n",
    "\"\"\")\n",
    "\n",
    "\n",
    "fh.close()"
   ]
  },
  {
   "cell_type": "code",
   "execution_count": 55,
   "metadata": {},
   "outputs": [],
   "source": [
    "import urllib.request"
   ]
  },
  {
   "cell_type": "code",
   "execution_count": 57,
   "metadata": {},
   "outputs": [],
   "source": [
    "pub_list = \"https://raw.githubusercontent.com/foerstner-lab/Bits_and_pieces_for_the_carpentries_workshops/master/text_file_examples/DOIs_PMIDs_PubYears.tsv\"\n",
    "pub_list_file = \"pub_list.tsv\""
   ]
  },
  {
   "cell_type": "code",
   "execution_count": 58,
   "metadata": {},
   "outputs": [
    {
     "data": {
      "text/plain": [
       "('pub_list.tsv', <http.client.HTTPMessage at 0x230153d4a90>)"
      ]
     },
     "execution_count": 58,
     "metadata": {},
     "output_type": "execute_result"
    }
   ],
   "source": [
    "urllib.request.urlretrieve(pub_list, pub_list_file)"
   ]
  },
  {
   "cell_type": "code",
   "execution_count": 59,
   "metadata": {},
   "outputs": [
    {
     "name": "stdout",
     "output_type": "stream",
     "text": [
      "DOI\tPMID\tYear\n",
      "\n",
      "10.1186/s13326-017-0123-3\t28412964\t2017\n",
      "\n",
      "10.1093/bioinformatics/btw331\t27288493\t2016\n",
      "\n",
      "10.1007/s11306-018-1356-6\t29706851\t2018\n",
      "\n",
      "10.1371/journal.pcbi.1004447\t26335558\t2015\n",
      "\n",
      "10.1093/bioinformatics/btv363.\t26085503\t2015\n",
      "\n",
      "10.1371/journal.pbio.3000246\t31042704\t2019\n",
      "\n",
      "10.7717/peerj.6762\t30997295\t2019\n",
      "\n",
      "10.3389/fpsyg.2019.00564\t30949097\t2019\n",
      "\n"
     ]
    }
   ],
   "source": [
    "for line in open(pub_list_file):\n",
    "    print(line)"
   ]
  },
  {
   "cell_type": "code",
   "execution_count": 61,
   "metadata": {},
   "outputs": [],
   "source": [
    "mein_text = \"Das ist ein toller Text.\""
   ]
  },
  {
   "cell_type": "code",
   "execution_count": 62,
   "metadata": {},
   "outputs": [
    {
     "data": {
      "text/plain": [
       "['Das', 'ist', 'ein', 'toller', 'Text.']"
      ]
     },
     "execution_count": 62,
     "metadata": {},
     "output_type": "execute_result"
    }
   ],
   "source": [
    "mein_text.split()"
   ]
  },
  {
   "cell_type": "code",
   "execution_count": 63,
   "metadata": {},
   "outputs": [
    {
     "data": {
      "text/plain": [
       "['Das ', ' ein toller Text.']"
      ]
     },
     "execution_count": 63,
     "metadata": {},
     "output_type": "execute_result"
    }
   ],
   "source": [
    "mein_text.split(\"ist\")"
   ]
  },
  {
   "cell_type": "code",
   "execution_count": 64,
   "metadata": {},
   "outputs": [
    {
     "data": {
      "text/plain": [
       "['Das ist ', 'in toll', 'r T', 'xt.']"
      ]
     },
     "execution_count": 64,
     "metadata": {},
     "output_type": "execute_result"
    }
   ],
   "source": [
    "mein_text.split(\"e\")"
   ]
  },
  {
   "cell_type": "code",
   "execution_count": 65,
   "metadata": {},
   "outputs": [
    {
     "name": "stdout",
     "output_type": "stream",
     "text": [
      "['DOI', 'PMID', 'Year']\n",
      "['10.1186/s13326-017-0123-3', '28412964', '2017']\n",
      "['10.1093/bioinformatics/btw331', '27288493', '2016']\n",
      "['10.1007/s11306-018-1356-6', '29706851', '2018']\n",
      "['10.1371/journal.pcbi.1004447', '26335558', '2015']\n",
      "['10.1093/bioinformatics/btv363.', '26085503', '2015']\n",
      "['10.1371/journal.pbio.3000246', '31042704', '2019']\n",
      "['10.7717/peerj.6762', '30997295', '2019']\n",
      "['10.3389/fpsyg.2019.00564', '30949097', '2019']\n"
     ]
    }
   ],
   "source": [
    "for line in open(pub_list_file):\n",
    "    print(line.split())"
   ]
  },
  {
   "cell_type": "code",
   "execution_count": 66,
   "metadata": {},
   "outputs": [
    {
     "name": "stdout",
     "output_type": "stream",
     "text": [
      "DOI\n",
      "10.1186/s13326-017-0123-3\n",
      "10.1093/bioinformatics/btw331\n",
      "10.1007/s11306-018-1356-6\n",
      "10.1371/journal.pcbi.1004447\n",
      "10.1093/bioinformatics/btv363.\n",
      "10.1371/journal.pbio.3000246\n",
      "10.7717/peerj.6762\n",
      "10.3389/fpsyg.2019.00564\n"
     ]
    }
   ],
   "source": [
    "for line in open(pub_list_file):\n",
    "    print(line.split()[0])"
   ]
  },
  {
   "cell_type": "code",
   "execution_count": 67,
   "metadata": {},
   "outputs": [
    {
     "name": "stdout",
     "output_type": "stream",
     "text": [
      "DOI\n",
      "10.1186/s13326-017-0123-3\n",
      "10.1093/bioinformatics/btw331\n",
      "10.1007/s11306-018-1356-6\n"
     ]
    }
   ],
   "source": [
    "line_counter = 0\n",
    "max_lines = 4\n",
    "for line in open(pub_list_file):\n",
    "    print(line.split()[0])\n",
    "    line_counter = line_counter + 1 #\n",
    "    if line_counter == max_lines:\n",
    "        break"
   ]
  },
  {
   "cell_type": "code",
   "execution_count": null,
   "metadata": {},
   "outputs": [],
   "source": []
  }
 ],
 "metadata": {
  "kernelspec": {
   "display_name": "Python 3",
   "language": "python",
   "name": "python3"
  },
  "language_info": {
   "codemirror_mode": {
    "name": "ipython",
    "version": 3
   },
   "file_extension": ".py",
   "mimetype": "text/x-python",
   "name": "python",
   "nbconvert_exporter": "python",
   "pygments_lexer": "ipython3",
   "version": "3.7.3"
  }
 },
 "nbformat": 4,
 "nbformat_minor": 4
}
